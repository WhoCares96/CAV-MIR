{
 "cells": [
  {
   "cell_type": "code",
   "execution_count": null,
   "metadata": {},
   "outputs": [],
   "source": [
    "\n",
    "from cavmir.data.dataset_creation import get_genre_balanced_datasets, preprocess_metadata"
   ]
  },
  {
   "cell_type": "markdown",
   "metadata": {},
   "source": [
    "#### Create genre balanced datasets\n"
   ]
  },
  {
   "cell_type": "code",
   "execution_count": null,
   "metadata": {},
   "outputs": [],
   "source": [
    "metadata_path = \"\"\n",
    "song_artist_path = \"\"\n",
    "artist_info_path = \"\"\n",
    "\n",
    "metadata = preprocess_metadata(metadata_path=metadata_path,\n",
    "                                 song_artist_path=song_artist_path,\n",
    "                                 artist_info_path=artist_info_path\n",
    "                            )\n",
    "\n",
    "# Create genre-balanced datasets for different languages\n",
    "train_concept_language = (\"language\", [\"en\", \"fr\", \"it\", \"pt\", \"ja\", \"es\", \"de\"])\n",
    "(train_dataset_language, test_dataset_language) = get_genre_balanced_datasets(\n",
    "    metadata=metadata, train_concept=train_concept_language\n",
    ")\n",
    "\n",
    "# Create genre-balanced datasets for different genders\n",
    "train_concept_gender = (\"gender\", [\"male\", \"female\"])\n",
    "(train_dataset_gender, test_dataset_gender) = get_genre_balanced_datasets(\n",
    "    metadata=metadata, train_concept=train_concept_gender\n",
    ")\n",
    "\n",
    "# Create genre-balanced datasets for different age groups (not used for publication)\n",
    "train_concept_singer_age_decade = (\"singer_age_decade\", [i * 10 for i in range(1, 9)])\n",
    "(train_dataset_singer_age_decade, test_dataset_singer_age_decade) = (\n",
    "    get_genre_balanced_datasets(\n",
    "        metadata=metadata, train_concept=train_concept_singer_age_decade\n",
    "    )\n",
    ")\n"
   ]
  },
  {
   "cell_type": "markdown",
   "metadata": {},
   "source": [
    "#### Save datasets\n"
   ]
  },
  {
   "cell_type": "code",
   "execution_count": null,
   "metadata": {},
   "outputs": [],
   "source": [
    "for key in train_dataset_language:\n",
    "    train_dataset_language[key].to_csv(\n",
    "        f\"datasets/train_dataset_language_{key}.csv\", index=False\n",
    "    )\n",
    "    test_dataset_language[key].to_csv(\n",
    "        f\"datasets/test_dataset_language_{key}.csv\", index=False\n",
    "    )\n",
    "\n",
    "for key in train_dataset_gender:\n",
    "    train_dataset_gender[key].to_csv(\n",
    "        f\"datasets/train_dataset_gender_{key}.csv\", index=False\n",
    "    )\n",
    "    test_dataset_gender[key].to_csv(\n",
    "        f\"datasets/test_dataset_gender_{key}.csv\", index=False\n",
    "    )\n",
    "\n",
    "for key in train_dataset_singer_age_decade:\n",
    "    train_dataset_singer_age_decade[key].to_csv(\n",
    "        f\"datasets/train_dataset_singer_age_decade_{key}.csv\", index=False\n",
    "    )\n",
    "    test_dataset_singer_age_decade[key].to_csv(\n",
    "        f\"datasets/test_dataset_singer_age_decade_{key}.csv\", index=False\n",
    "    )"
   ]
  }
 ],
 "metadata": {
  "kernelspec": {
   "display_name": "Python 3",
   "language": "python",
   "name": "python3"
  },
  "language_info": {
   "codemirror_mode": {
    "name": "ipython",
    "version": 3
   },
   "file_extension": ".py",
   "mimetype": "text/x-python",
   "name": "python",
   "nbconvert_exporter": "python",
   "pygments_lexer": "ipython3",
   "version": "3.11.9"
  }
 },
 "nbformat": 4,
 "nbformat_minor": 2
}
