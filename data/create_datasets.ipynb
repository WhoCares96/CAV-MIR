{
 "cells": [
  {
   "cell_type": "markdown",
   "metadata": {},
   "source": [
    "## Dataset Construction for CAV Training and Evaluation\n",
    "\n",
    "This notebook implements the dataset construction pipeline used for training and evaluating Concept Activation Vectors (CAVs) in our bias analysis and debiasing framework.\n",
    "\n",
    "We focus on creating balanced and stratified datasets that support binary concept classification tasks (e.g., gender = female vs. not female) while minimizing confounding factors such as genre or language imbalance. The resulting splits are used for training concept classifiers (logistic regression) and computing TCAV scores. The CAVs can also be used for de-biasing.\n",
    "\n",
    "\n"
   ]
  },
  {
   "cell_type": "code",
   "execution_count": null,
   "metadata": {},
   "outputs": [],
   "source": [
    "\n",
    "from cavmir.data.dataset_creation import get_genre_balanced_datasets, preprocess_metadata"
   ]
  },
  {
   "cell_type": "markdown",
   "metadata": {},
   "source": [
    "#### Load Metadata\n",
    "The notebook loads the full metadata table, including track IDs, genre, gender, language, and precomputed embeddings. This metadata serves as the basis for concept stratification.\n",
    "\n",
    "##### Stratified Sampling\n",
    "For each concept (e.g., gender, language), we:\n",
    "\n",
    "- Define positive samples (e.g., gender = female)\n",
    "\n",
    "- Define non-positive samples (e.g., gender ≠ female, such as male and non-binary)\n",
    "\n",
    "- Sample an equal number of positive and non-positive examples for each concept within each genre, reducing the risk of genre-driven confounding.\n",
    "\n",
    "##### Train/Test Split with Genre Balance\n",
    "\n",
    "- A maximum of 50 samples per (concept, genre) subgroup are used for training.\n",
    "\n",
    "- The remainder is reserved for testing.\n",
    "\n",
    "- If data is scarce, the limit is scaled down proportionally.\n",
    "\n",
    "This ensures broad subgroup diversity in the test set, while avoiding training/test overlap.\n"
   ]
  },
  {
   "cell_type": "code",
   "execution_count": null,
   "metadata": {},
   "outputs": [],
   "source": [
    "song_info_path = \"song_info.csv\"\n",
    "song_artist_path = \"song_artist.csv\"\n",
    "artist_info_path = \"artist_info.csv\"\n",
    "supplementary_dataset_path = \"supplementary_dataset.txt\"\n",
    "\n",
    "metadata = preprocess_metadata(song_info_path=song_info_path,\n",
    "                                 song_artist_path=song_artist_path,\n",
    "                                 artist_info_path=artist_info_path\n",
    "                            )\n",
    "\n",
    "# Merge with supplementary dataset\n",
    "supplementary_metadata = pd.read_json(supplementary_dataset_path, lines=True)\n",
    "metadata = pd.concat([metadata, supplementary_metadata], axis=0, ignore_index=True)\n",
    "\n",
    "# Create genre-balanced datasets for different languages\n",
    "train_concept_language = (\"language\", [\"en\", \"fr\", \"it\", \"pt\", \"ja\", \"es\", \"de\"])\n",
    "(train_dataset_language, test_dataset_language) = get_genre_balanced_datasets(\n",
    "    metadata=metadata, train_concept=train_concept_language\n",
    ")\n",
    "\n",
    "# Create genre-balanced datasets for different genders\n",
    "train_concept_gender = (\"gender\", [\"male\", \"female\"])\n",
    "(train_dataset_gender, test_dataset_gender) = get_genre_balanced_datasets(\n",
    "    metadata=metadata, train_concept=train_concept_gender\n",
    ")\n",
    "\n"
   ]
  },
  {
   "cell_type": "markdown",
   "metadata": {},
   "source": [
    "#### Exporting Final Datasets\n",
    "Final training and testing sets are saved per concept and used for:\n",
    "\n",
    "- CAV training (logistic regression on embeddings)\n",
    "\n",
    "- TCAV score computation\n",
    "\n",
    "- Bias manipulation experiments"
   ]
  },
  {
   "cell_type": "code",
   "execution_count": null,
   "metadata": {},
   "outputs": [],
   "source": [
    "for key in train_dataset_language:\n",
    "    train_dataset_language[key].to_csv(\n",
    "        f\"datasets/train_dataset_language_{key}.csv\", index=False\n",
    "    )\n",
    "    test_dataset_language[key].to_csv(\n",
    "        f\"datasets/test_dataset_language_{key}.csv\", index=False\n",
    "    )\n",
    "\n",
    "for key in train_dataset_gender:\n",
    "    train_dataset_gender[key].to_csv(\n",
    "        f\"datasets/train_dataset_gender_{key}.csv\", index=False\n",
    "    )\n",
    "    test_dataset_gender[key].to_csv(\n",
    "        f\"datasets/test_dataset_gender_{key}.csv\", index=False\n",
    "    )\n"
   ]
  }
 ],
 "metadata": {
  "kernelspec": {
   "display_name": "Python 3",
   "language": "python",
   "name": "python3"
  },
  "language_info": {
   "codemirror_mode": {
    "name": "ipython",
    "version": 3
   },
   "file_extension": ".py",
   "mimetype": "text/x-python",
   "name": "python",
   "nbconvert_exporter": "python",
   "pygments_lexer": "ipython3",
   "version": "3.13.2"
  }
 },
 "nbformat": 4,
 "nbformat_minor": 2
}
