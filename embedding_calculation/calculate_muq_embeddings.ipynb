{
 "cells": [
  {
   "cell_type": "code",
   "execution_count": 1,
   "metadata": {},
   "outputs": [
    {
     "data": {
      "text/plain": [
       "True"
      ]
     },
     "execution_count": 1,
     "metadata": {},
     "output_type": "execute_result"
    }
   ],
   "source": [
    "import dotenv\n",
    "\n",
    "dotenv.load_dotenv()"
   ]
  },
  {
   "cell_type": "code",
   "execution_count": 2,
   "metadata": {},
   "outputs": [],
   "source": [
    "import os\n",
    "import sys\n",
    "import time\n",
    "import warnings\n",
    "\n",
    "import numpy as np\n",
    "import s3fs\n",
    "from cavmir.encoders.interface import AudioEncoder\n",
    "from cavmir.encoders.muq import MuQEncoder\n",
    "\n",
    "warnings.filterwarnings(\"ignore\")\n",
    "\n",
    "s3 = s3fs.S3FileSystem(anon=False)\n",
    "\n",
    "audio_prefix = os.environ[\"AUDIO_PREFIX\"]\n",
    "embedding_prefix = os.environ[\"EMBEDDING_PREFIX\"]\n",
    "\n",
    "\n",
    "def list_files_on_s3(s3_path, file_type=None):\n",
    "    all_files = s3.ls(s3_path)\n",
    "\n",
    "    if file_type:\n",
    "        all_files = [f for f in all_files if f.endswith(file_type)]\n",
    "\n",
    "    return [\"s3://\" + f for f in all_files]\n",
    "\n",
    "\n",
    "def create_embedding_uri(audio_uri, embedding_prefix, model_id):\n",
    "    audio_file_name = os.path.basename(audio_uri).split(\".\")[0]\n",
    "    embedding_file_name = f\"{audio_file_name}.{model_id}.npy\"\n",
    "\n",
    "    return os.path.join(embedding_prefix, model_id, embedding_file_name)\n",
    "\n",
    "\n",
    "def create_and_store_embedding(\n",
    "    audio_uri: str,\n",
    "    embedding_prefix: str,\n",
    "    encoder: AudioEncoder,\n",
    "):\n",
    "    out_uri = create_embedding_uri(audio_uri, embedding_prefix, encoder.model_id)\n",
    "\n",
    "    if s3.exists(out_uri):\n",
    "        print(f\"Embedding already exists at {out_uri}\")\n",
    "        return\n",
    "\n",
    "    s3.download(audio_uri, \"temp_audio\")\n",
    "    embedding = encoder.embed_audio_file(\"temp_audio\")\n",
    "\n",
    "    np.save(\"temp_embedding.npy\", embedding)\n",
    "    s3.upload(\"temp_embedding.npy\", out_uri)\n",
    "\n",
    "    os.remove(\"temp_embedding.npy\")\n",
    "    os.remove(\"temp_audio\")\n"
   ]
  },
  {
   "cell_type": "code",
   "execution_count": 3,
   "metadata": {},
   "outputs": [],
   "source": [
    "encoder = MuQEncoder()"
   ]
  },
  {
   "cell_type": "code",
   "execution_count": null,
   "metadata": {},
   "outputs": [],
   "source": [
    "audio_data = list_files_on_s3(audio_prefix, \"mp3\")\n",
    "\n",
    "\n",
    "start = time.time()\n",
    "for i, audio_uri in enumerate(audio_data):\n",
    "    create_and_store_embedding(audio_uri, embedding_prefix, encoder)\n",
    "\n",
    "    if i % 100 == 0:\n",
    "        sys.stdout.write(f\"\\rProcessed {i} files. Time taken: {time.time() - start}\")\n"
   ]
  },
  {
   "cell_type": "code",
   "execution_count": null,
   "metadata": {},
   "outputs": [],
   "source": []
  }
 ],
 "metadata": {
  "kernelspec": {
   "display_name": ".venv",
   "language": "python",
   "name": "python3"
  },
  "language_info": {
   "codemirror_mode": {
    "name": "ipython",
    "version": 3
   },
   "file_extension": ".py",
   "mimetype": "text/x-python",
   "name": "python",
   "nbconvert_exporter": "python",
   "pygments_lexer": "ipython3",
   "version": "3.12.9"
  }
 },
 "nbformat": 4,
 "nbformat_minor": 2
}
