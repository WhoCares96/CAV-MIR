{
 "cells": [
  {
   "cell_type": "code",
   "execution_count": 2,
   "metadata": {},
   "outputs": [
    {
     "data": {
      "text/plain": [
       "True"
      ]
     },
     "execution_count": 2,
     "metadata": {},
     "output_type": "execute_result"
    }
   ],
   "source": [
    "import dotenv\n",
    "\n",
    "dotenv.load_dotenv()"
   ]
  },
  {
   "cell_type": "code",
   "execution_count": 10,
   "metadata": {},
   "outputs": [],
   "source": [
    "project_names = [\"gender_female\", \"gender_male\"]\n",
    "encoder_ids = [\"mert_v1_95m\", \"whisper_large_v2\"]\n",
    "target_columns = [\"genre\"]"
   ]
  },
  {
   "cell_type": "raw",
   "metadata": {
    "vscode": {
     "languageId": "raw"
    }
   },
   "source": [
    "project_names = [\n",
    "    \"language_de\",\n",
    "    \"language_en\",\n",
    "    \"language_es\",\n",
    "    \"language_fr\",\n",
    "    \"language_it\",\n",
    "    \"language_ja\",\n",
    "    \"language_pt\",\n",
    "]\n",
    "encoder_ids = [\"mert_v1_95m\", \"whisper_large_turbo\"]\n",
    "target_columns = [\"genre\", \"language\"]"
   ]
  },
  {
   "cell_type": "code",
   "execution_count": null,
   "metadata": {},
   "outputs": [],
   "source": [
    "project_names = [\n",
    "    \"singer_age_decade_10\",\n",
    "]\n",
    "encoder_ids = [\"whisper_large_v2\"]\n",
    "target_columns = [\"genre\"]"
   ]
  },
  {
   "cell_type": "code",
   "execution_count": 4,
   "metadata": {},
   "outputs": [],
   "source": [
    "import itertools\n",
    "import os\n",
    "\n",
    "import matplotlib.pyplot as plt\n",
    "import numpy as np\n",
    "import pandas as pd\n",
    "import s3fs\n",
    "from cavmir.evaluation import calculate_tcav_score\n",
    "from cavmir.utils import load_embeddings\n",
    "\n",
    "s3 = s3fs.S3FileSystem()\n",
    "\n",
    "trainings_prefix = os.environ[\"TRAININGS_PREFIX\"]\n",
    "dataset_prefix = os.environ[\"DATASET_PREFIX\"]\n",
    "embedding_prefix = os.environ[\"EMBEDDING_PREFIX\"]\n",
    "\n",
    "\n",
    "def get_test_set(project_name: str):\n",
    "    df_test = pd.read_csv(\n",
    "        os.path.join(dataset_prefix, f\"test_dataset_{project_name}.csv\")\n",
    "    )\n",
    "    return df_test\n"
   ]
  },
  {
   "cell_type": "markdown",
   "metadata": {},
   "source": [
    "### Use Case 1: Sort Audio Samples by CAV vector\n"
   ]
  },
  {
   "cell_type": "code",
   "execution_count": 4,
   "metadata": {},
   "outputs": [],
   "source": [
    "# todo"
   ]
  },
  {
   "cell_type": "markdown",
   "metadata": {},
   "source": [
    "### Use Case 2: Measuring Model Bias Using TCAV\n"
   ]
  },
  {
   "cell_type": "code",
   "execution_count": null,
   "metadata": {},
   "outputs": [],
   "source": [
    "from collections import defaultdict\n",
    "from matplotlib.patches import Patch\n",
    "from scipy.stats import ttest_1samp\n",
    "\n",
    "\n",
    "def calculate_tcav_scores(\n",
    "    cav_vectors: np.ndarray,\n",
    "    df: pd.DataFrame,\n",
    "    target_column: str,\n",
    "    embedding_prefix: str,\n",
    "    encoder_id: str,\n",
    ") -> dict[str, list[float]]:\n",
    "    \"\"\"\n",
    "    Calculates the TCAV scores for each target label in the dataset.\n",
    "\n",
    "    \"\"\"\n",
    "    target_labels = df[target_column].unique()\n",
    "\n",
    "    tcav_scores = defaultdict(list)\n",
    "    for target_label in target_labels:\n",
    "        df_subset = df[df[target_column] == target_label]\n",
    "        target_embeddings = load_embeddings(\n",
    "            df_subset.song_id, embedding_prefix, encoder_id, s3\n",
    "        )\n",
    "        for cav_vector in cav_vectors:\n",
    "            tcav_scores[target_label].append(\n",
    "                calculate_tcav_score(cav_vector, target_embeddings)\n",
    "            )\n",
    "\n",
    "    return tcav_scores\n",
    "\n",
    "\n",
    "def t_test_on_tcav_scores(\n",
    "    tcav_scores: dict[str, list[float]],\n",
    "    target_p_value: float = 0.05,\n",
    "    bonferroni_correction: bool = True,\n",
    "    verbose: bool = True,\n",
    ") -> tuple[dict[str, float], float]:\n",
    "    \"\"\"\n",
    "    Performs a t-test on the TCAV scores of each trained cav vector per target label.\n",
    "    The null hypothesis is that the TCAV scores do not diverge from 0.5 (no bias).\n",
    "\n",
    "    Parameters\n",
    "    ----------\n",
    "    tcav_scores : dict[str, list[float]]\n",
    "        The TCAV scores per target label. Since we train mulitple cav vectors per target label, we expect a list of scores.\n",
    "    target_p_value : float, optional\n",
    "        The p-value threshold for the t-test, by default 0.05\n",
    "    bonferroni_correction : bool, optional\n",
    "        Whether to perform the Bonferroni correction on the p-values, by default True\n",
    "\n",
    "    Returns\n",
    "    -------\n",
    "    pvalues : list[float]\n",
    "        The p-values of the t-test for each target label.\n",
    "    target_p_value : float\n",
    "        The target p-value used for the t-test.\n",
    "    \"\"\"\n",
    "\n",
    "    if bonferroni_correction:\n",
    "        target_p_value_str = (\n",
    "            f\"({target_p_value} / {len(tcav_scores)}) (Bonferroni corrected)\"\n",
    "        )\n",
    "        target_p_value = target_p_value / len(tcav_scores)\n",
    "    else:\n",
    "        target_p_value_str = f\"{target_p_value}\"\n",
    "\n",
    "    p_values = {}\n",
    "    for label, scores in tcav_scores.items():\n",
    "        t_statistic, p_value = ttest_1samp(scores, 0.5)\n",
    "        p_values[label] = p_value\n",
    "\n",
    "        if not verbose:\n",
    "            continue\n",
    "\n",
    "        print(\n",
    "            f\"\\nPerforming t-test on TCAV scores for label: {label}\\nt-statistic: {t_statistic}\"\n",
    "        )\n",
    "\n",
    "        if p_value < target_p_value:\n",
    "            print(f\"p-value: {p_value:.4e} < {target_p_value_str}\")\n",
    "            print(\"The null hypothesis (popmean=0.5) can be rejected.\")\n",
    "        else:\n",
    "            print(f\"p-value: {p_value:.4e} >= {target_p_value_str}\")\n",
    "            print(\"The null hypothesis (popmean=0.5) cannot be rejected.\")\n",
    "\n",
    "    return p_values, target_p_value\n",
    "\n",
    "\n",
    "def plot_tcav_scores(\n",
    "    tcav_scores: dict[str, float],\n",
    "    not_sigificant_labels: list[str],\n",
    "):\n",
    "    \"\"\"\n",
    "    Creates a relative bar plot of the TCAV scores for each target label.\n",
    "    \"\"\"\n",
    "\n",
    "    colors = {\n",
    "        \"neutral\": \"#90A4AE\",\n",
    "        \"positive\": \"#AED581\",\n",
    "        \"negative\": \"#FF8A65\",\n",
    "    }\n",
    "\n",
    "    tcav_scores = dict(sorted(tcav_scores.items(), key=lambda x: x[1], reverse=False))\n",
    "\n",
    "    plt.figure(figsize=(5, 4))\n",
    "    bar_colors = [\n",
    "        colors[\"neutral\"]\n",
    "        if label in not_sigificant_labels\n",
    "        else colors[\"positive\"]\n",
    "        if score > 0.5\n",
    "        else colors[\"negative\"]\n",
    "        for label, score in tcav_scores.items()\n",
    "    ]\n",
    "    plt.barh(\n",
    "        [*tcav_scores.keys()],\n",
    "        [score - 0.5 for score in tcav_scores.values()],\n",
    "        left=0.5,\n",
    "        color=bar_colors,\n",
    "    )\n",
    "    plt.axvline(0.5, color=\"black\", linewidth=0.5)\n",
    "\n",
    "    plt.yticks(rotation=0)\n",
    "    plt.xticks(np.arange(0, 1.1, 0.25))\n",
    "    plt.xlim(0, 1)\n",
    "\n",
    "    plt.grid(axis=\"x\", linestyle=\"--\", linewidth=0.5)\n",
    "    legend_elements = [\n",
    "        Patch(facecolor=colors[\"positive\"], label=\"Positive bias\"),\n",
    "        Patch(facecolor=colors[\"negative\"], label=\"Negative bias\"),\n",
    "        Patch(facecolor=colors[\"neutral\"], label=\"No significance\"),\n",
    "    ]\n",
    "    plt.legend(handles=legend_elements, loc=\"lower right\", fontsize=\"x-small\")\n",
    "    plt.tight_layout()\n",
    "    plt.show()\n",
    "\n",
    "\n",
    "def run_evaluations(evaluation_variations: list[tuple]) -> dict[str, list[float]]:\n",
    "    for project_name, encoder_id, target_column in evaluation_variations:\n",
    "        print(f\"Evaluating {project_name} with {encoder_id} on {target_column}\")\n",
    "\n",
    "        df_test = get_test_set(project_name)\n",
    "\n",
    "        project_prefix = (\n",
    "            \"singer_age\" if project_name.startswith(\"singer_age\") else \"TODO\"\n",
    "        )\n",
    "\n",
    "        cav_vector_dir = os.path.join(\n",
    "            trainings_prefix,\n",
    "            encoder_id,\n",
    "            project_prefix,\n",
    "            \"trainings\",\n",
    "            project_name,\n",
    "            f\"cav_ttest_{project_name}.npy\",\n",
    "        )\n",
    "\n",
    "        cav_vector = np.load(cav_vector_dir)\n",
    "\n",
    "        tcav_scores = calculate_tcav_scores(\n",
    "            cav_vector, df_test, target_column, embedding_prefix, encoder_id\n",
    "        )\n",
    "        p_values, target_p_value = t_test_on_tcav_scores(tcav_scores, verbose=False)\n",
    "\n",
    "        genres_to_accept_h0 = [\n",
    "            genre for genre, p in p_values.items() if p >= target_p_value\n",
    "        ]\n",
    "\n",
    "        mean_tcav_scores = {\n",
    "            label: np.mean(scores, axis=0) for label, scores in tcav_scores.items()\n",
    "        }\n",
    "\n",
    "        plot_tcav_scores(mean_tcav_scores, genres_to_accept_h0)\n"
   ]
  },
  {
   "cell_type": "code",
   "execution_count": 15,
   "metadata": {},
   "outputs": [
    {
     "name": "stdout",
     "output_type": "stream",
     "text": [
      "Evaluating singer_age_decade_10 with whisper_large_v2 on genre\n"
     ]
    },
    {
     "data": {
      "image/png": "[encoded data removed]",
      "text/plain": [
       "<Figure size 500x400 with 1 Axes>"
      ]
     },
     "metadata": {},
     "output_type": "display_data"
    }
   ],
   "source": [
    "evaluation_variations = [*itertools.product(project_names, encoder_ids, target_columns)]\n",
    "\n",
    "results = run_evaluations(evaluation_variations)"
   ]
  },
  {
   "cell_type": "code",
   "execution_count": null,
   "metadata": {},
   "outputs": [],
   "source": []
  },
  {
   "cell_type": "code",
   "execution_count": null,
   "metadata": {},
   "outputs": [],
   "source": []
  },
  {
   "cell_type": "code",
   "execution_count": null,
   "metadata": {},
   "outputs": [],
   "source": []
  }
 ],
 "metadata": {
  "kernelspec": {
   "display_name": ".venv",
   "language": "python",
   "name": "python3"
  },
  "language_info": {
   "codemirror_mode": {
    "name": "ipython",
    "version": 3
   },
   "file_extension": ".py",
   "mimetype": "text/x-python",
   "name": "python",
   "nbconvert_exporter": "python",
   "pygments_lexer": "ipython3",
   "version": "3.12.9"
  }
 },
 "nbformat": 4,
 "nbformat_minor": 2
}
