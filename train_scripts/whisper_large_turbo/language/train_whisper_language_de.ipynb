{
 "cells": [
  {
   "cell_type": "markdown",
   "metadata": {},
   "source": [
    "### Prerequisites\n"
   ]
  },
  {
   "cell_type": "code",
   "execution_count": 1,
   "metadata": {},
   "outputs": [
    {
     "data": {
      "text/plain": [
       "True"
      ]
     },
     "execution_count": 1,
     "metadata": {},
     "output_type": "execute_result"
    }
   ],
   "source": [
    "import dotenv\n",
    "\n",
    "dotenv.load_dotenv()"
   ]
  },
  {
   "cell_type": "code",
   "execution_count": 2,
   "metadata": {},
   "outputs": [],
   "source": [
    "project_name = \"language_de\"\n",
    "encoder_id = \"whisper_large_turbo\"\n",
    "\n",
    "# data preparation\n",
    "target_column = \"language\"\n",
    "target_positive_class = \"de\"\n",
    "train_val_split = 0.9\n",
    "\n",
    "\n",
    "# training\n",
    "epochs = 1000\n",
    "batch_size = 128\n",
    "learning_rate = 0.005\n",
    "embedding_dim = 1280\n",
    "dropout_rate = 0.0"
   ]
  },
  {
   "cell_type": "markdown",
   "metadata": {},
   "source": [
    "### Prepare Data\n"
   ]
  },
  {
   "cell_type": "code",
   "execution_count": 3,
   "metadata": {},
   "outputs": [],
   "source": [
    "import io\n",
    "import os\n",
    "from concurrent.futures import ThreadPoolExecutor\n",
    "\n",
    "import numpy as np\n",
    "import pandas as pd\n",
    "import s3fs\n",
    "from cavmir.training.dataset import TrainingSample, create_webdataset\n",
    "\n",
    "s3 = s3fs.S3FileSystem(anon=False)\n",
    "\n",
    "dataset_prefix = os.environ[\"DATASET_PREFIX\"]\n",
    "embedding_prefix = os.environ[\"EMBEDDING_PREFIX\"]\n",
    "\n",
    "\n",
    "def create_embedding_path(song_id: str) -> str:\n",
    "    return os.path.join(embedding_prefix, encoder_id, f\"{song_id}.{encoder_id}.npy\")\n",
    "\n",
    "\n",
    "def create_training_sample(\n",
    "    row: pd.Series, target_column: str, target_positive_class: str\n",
    ") -> TrainingSample:\n",
    "    embedding_path = create_embedding_path(row.song_id)\n",
    "    embedding = np.load(io.BytesIO(s3.cat(embedding_path)))[0]\n",
    "\n",
    "    target = np.array(\n",
    "        [1] if getattr(row, target_column) == target_positive_class else [0]\n",
    "    )\n",
    "\n",
    "    training_sample = TrainingSample(\n",
    "        id=str(row.song_id),\n",
    "        embedding=embedding,\n",
    "        target=target,\n",
    "    )\n",
    "\n",
    "    training_sample.validate_attributes()\n",
    "\n",
    "    return training_sample\n",
    "\n",
    "\n",
    "def create_training_samples(dataset: pd.DataFrame) -> list[TrainingSample]:\n",
    "    with ThreadPoolExecutor() as executor:\n",
    "        return list(\n",
    "            executor.map(\n",
    "                lambda row: create_training_sample(\n",
    "                    row, target_column, target_positive_class\n",
    "                ),\n",
    "                dataset.itertuples(),\n",
    "            )\n",
    "        )"
   ]
  },
  {
   "cell_type": "code",
   "execution_count": 4,
   "metadata": {},
   "outputs": [],
   "source": [
    "df = pd.read_csv(os.path.join(dataset_prefix, f\"train_dataset_{project_name}.csv\"))\n",
    "df = df.sample(frac=1, random_state=1).reset_index(drop=True)\n",
    "\n",
    "df_train = df.iloc[: int(len(df) * train_val_split)]\n",
    "df_val = df.iloc[int(len(df) * train_val_split) :]\n",
    "\n",
    "df_test = pd.read_csv(os.path.join(dataset_prefix, f\"test_dataset_{project_name}.csv\"))"
   ]
  },
  {
   "cell_type": "code",
   "execution_count": 5,
   "metadata": {},
   "outputs": [],
   "source": [
    "create_webdataset(\n",
    "    create_training_samples(df_train),\n",
    "    f\"datasets/{encoder_id}_train_{project_name}.tar\",\n",
    ")"
   ]
  },
  {
   "cell_type": "code",
   "execution_count": 6,
   "metadata": {},
   "outputs": [],
   "source": [
    "create_webdataset(\n",
    "    create_training_samples(df_val),\n",
    "    f\"datasets/{encoder_id}_val_{project_name}.tar\",\n",
    ")"
   ]
  },
  {
   "cell_type": "code",
   "execution_count": 7,
   "metadata": {},
   "outputs": [],
   "source": [
    "create_webdataset(\n",
    "    create_training_samples(df_test),\n",
    "    f\"datasets/{encoder_id}_test_{project_name}.tar\",\n",
    ")"
   ]
  },
  {
   "cell_type": "markdown",
   "metadata": {},
   "source": [
    "### Training\n"
   ]
  },
  {
   "cell_type": "code",
   "execution_count": 8,
   "metadata": {},
   "outputs": [],
   "source": [
    "import os\n",
    "\n",
    "import numpy as np\n",
    "import torch\n",
    "from cavmir.training.dataset import create_dataloader_from_webdataset_path\n",
    "from cavmir.training.fit import fit_cav_model\n",
    "from cavmir.training.network import CAVNetwork"
   ]
  },
  {
   "cell_type": "code",
   "execution_count": 9,
   "metadata": {},
   "outputs": [
    {
     "name": "stderr",
     "output_type": "stream",
     "text": [
      "/home/arne/Documents/git/CAV-MIR/.venv/lib/python3.12/site-packages/webdataset/compat.py:389: UserWarning: WebDataset(shardshuffle=...) is None; set explicitly to False or a number\n",
      "  warnings.warn(\n"
     ]
    }
   ],
   "source": [
    "train_dataloader = create_dataloader_from_webdataset_path(\n",
    "    f\"datasets/{encoder_id}_train_{project_name}.tar\", batch_size=batch_size\n",
    ")\n",
    "\n",
    "val_dataloader = create_dataloader_from_webdataset_path(\n",
    "    f\"datasets/{encoder_id}_val_{project_name}.tar\", batch_size=batch_size\n",
    ")\n",
    "\n",
    "model = CAVNetwork(\n",
    "    input_shape=embedding_dim,\n",
    "    target_shape=1,\n",
    "    dropout_rate=dropout_rate,\n",
    ")"
   ]
  },
  {
   "cell_type": "code",
   "execution_count": 10,
   "metadata": {},
   "outputs": [
    {
     "name": "stdout",
     "output_type": "stream",
     "text": [
      "Epoch 1/1000\n",
      "Epoch 1 Train Loss: 0.5848\n",
      "Epoch 1 Validation Loss: 0.4615\n",
      "Model saved to trainings/language_de/state_dict.pth\n",
      "Epoch 2/1000\n",
      "Epoch 2 Train Loss: 0.3877\n",
      "Epoch 2 Validation Loss: 0.3129\n",
      "Model saved to trainings/language_de/state_dict.pth\n",
      "Epoch 3/1000\n",
      "Epoch 3 Train Loss: 0.2700\n",
      "Epoch 3 Validation Loss: 0.2236\n",
      "Model saved to trainings/language_de/state_dict.pth\n",
      "Epoch 4/1000\n",
      "Epoch 4 Train Loss: 0.2004\n",
      "Epoch 4 Validation Loss: 0.1720\n",
      "Model saved to trainings/language_de/state_dict.pth\n",
      "Epoch 5/1000\n",
      "Epoch 5 Train Loss: 0.1582\n",
      "Epoch 5 Validation Loss: 0.1397\n",
      "Model saved to trainings/language_de/state_dict.pth\n",
      "Epoch 6/1000\n",
      "Epoch 6 Train Loss: 0.1311\n",
      "Epoch 6 Validation Loss: 0.1189\n",
      "Model saved to trainings/language_de/state_dict.pth\n",
      "Epoch 7/1000\n",
      "Epoch 7 Train Loss: 0.1128\n",
      "Epoch 7 Validation Loss: 0.1040\n",
      "Model saved to trainings/language_de/state_dict.pth\n",
      "Epoch 8/1000\n",
      "Epoch 8 Train Loss: 0.0996\n",
      "Epoch 8 Validation Loss: 0.0931\n",
      "Model saved to trainings/language_de/state_dict.pth\n",
      "Epoch 9/1000\n",
      "Epoch 9 Train Loss: 0.0897\n",
      "Epoch 9 Validation Loss: 0.0846\n",
      "Model saved to trainings/language_de/state_dict.pth\n",
      "Epoch 10/1000\n",
      "Epoch 10 Train Loss: 0.0819\n",
      "Epoch 10 Validation Loss: 0.0779\n",
      "Model saved to trainings/language_de/state_dict.pth\n",
      "Epoch 11/1000\n",
      "Epoch 11 Train Loss: 0.0757\n",
      "Epoch 11 Validation Loss: 0.0726\n",
      "Model saved to trainings/language_de/state_dict.pth\n",
      "Epoch 12/1000\n",
      "Epoch 12 Train Loss: 0.0706\n",
      "Epoch 12 Validation Loss: 0.0681\n",
      "Model saved to trainings/language_de/state_dict.pth\n",
      "Epoch 13/1000\n",
      "Epoch 13 Train Loss: 0.0664\n",
      "Epoch 13 Validation Loss: 0.0645\n",
      "Model saved to trainings/language_de/state_dict.pth\n",
      "Epoch 14/1000\n",
      "Epoch 14 Train Loss: 0.0627\n",
      "Epoch 14 Validation Loss: 0.0614\n",
      "Model saved to trainings/language_de/state_dict.pth\n",
      "Epoch 15/1000\n",
      "Epoch 15 Train Loss: 0.0596\n",
      "Epoch 15 Validation Loss: 0.0587\n",
      "Model saved to trainings/language_de/state_dict.pth\n",
      "Epoch 16/1000\n",
      "Epoch 16 Train Loss: 0.0569\n",
      "Epoch 16 Validation Loss: 0.0564\n",
      "Model saved to trainings/language_de/state_dict.pth\n",
      "Epoch 17/1000\n",
      "Epoch 17 Train Loss: 0.0546\n",
      "Epoch 17 Validation Loss: 0.0544\n",
      "Model saved to trainings/language_de/state_dict.pth\n",
      "Epoch 18/1000\n",
      "Epoch 18 Train Loss: 0.0525\n",
      "Epoch 18 Validation Loss: 0.0526\n",
      "Model saved to trainings/language_de/state_dict.pth\n",
      "Epoch 19/1000\n",
      "Epoch 19 Train Loss: 0.0506\n",
      "Epoch 19 Validation Loss: 0.0511\n",
      "Model saved to trainings/language_de/state_dict.pth\n",
      "Epoch 20/1000\n",
      "Epoch 20 Train Loss: 0.0489\n",
      "Epoch 20 Validation Loss: 0.0497\n",
      "Model saved to trainings/language_de/state_dict.pth\n",
      "Epoch 21/1000\n",
      "Epoch 21 Train Loss: 0.0474\n",
      "Epoch 21 Validation Loss: 0.0485\n",
      "Model saved to trainings/language_de/state_dict.pth\n",
      "Epoch 22/1000\n",
      "Epoch 22 Train Loss: 0.0460\n",
      "Epoch 22 Validation Loss: 0.0474\n",
      "Model saved to trainings/language_de/state_dict.pth\n",
      "Epoch 23/1000\n",
      "Epoch 23 Train Loss: 0.0447\n",
      "Epoch 23 Validation Loss: 0.0464\n",
      "Model saved to trainings/language_de/state_dict.pth\n",
      "Epoch 24/1000\n",
      "Epoch 24 Train Loss: 0.0435\n",
      "Epoch 24 Validation Loss: 0.0455\n",
      "Model saved to trainings/language_de/state_dict.pth\n",
      "Epoch 25/1000\n",
      "Epoch 25 Train Loss: 0.0425\n",
      "Epoch 25 Validation Loss: 0.0447\n",
      "Model saved to trainings/language_de/state_dict.pth\n",
      "Epoch 26/1000\n",
      "Epoch 26 Train Loss: 0.0415\n",
      "Epoch 26 Validation Loss: 0.0440\n",
      "Model saved to trainings/language_de/state_dict.pth\n",
      "Epoch 27/1000\n",
      "Epoch 27 Train Loss: 0.0405\n",
      "Epoch 27 Validation Loss: 0.0433\n",
      "Model saved to trainings/language_de/state_dict.pth\n",
      "Epoch 28/1000\n",
      "Epoch 28 Train Loss: 0.0396\n",
      "Epoch 28 Validation Loss: 0.0427\n",
      "Model saved to trainings/language_de/state_dict.pth\n",
      "Epoch 29/1000\n",
      "Epoch 29 Train Loss: 0.0388\n",
      "Epoch 29 Validation Loss: 0.0421\n",
      "Model saved to trainings/language_de/state_dict.pth\n",
      "Epoch 30/1000\n",
      "Epoch 30 Train Loss: 0.0380\n",
      "Epoch 30 Validation Loss: 0.0416\n",
      "Model saved to trainings/language_de/state_dict.pth\n",
      "Epoch 31/1000\n",
      "Epoch 31 Train Loss: 0.0373\n",
      "Epoch 31 Validation Loss: 0.0412\n",
      "Model saved to trainings/language_de/state_dict.pth\n",
      "Epoch 32/1000\n",
      "Epoch 32 Train Loss: 0.0366\n",
      "Epoch 32 Validation Loss: 0.0408\n",
      "Model saved to trainings/language_de/state_dict.pth\n",
      "Epoch 33/1000\n",
      "Epoch 33 Train Loss: 0.0360\n",
      "Epoch 33 Validation Loss: 0.0404\n",
      "Model saved to trainings/language_de/state_dict.pth\n",
      "Epoch 34/1000\n",
      "Epoch 34 Train Loss: 0.0353\n",
      "Epoch 34 Validation Loss: 0.0400\n",
      "Model saved to trainings/language_de/state_dict.pth\n",
      "Epoch 35/1000\n",
      "Epoch 35 Train Loss: 0.0347\n",
      "Epoch 35 Validation Loss: 0.0397\n",
      "Model saved to trainings/language_de/state_dict.pth\n",
      "Epoch 36/1000\n",
      "Epoch 36 Train Loss: 0.0342\n",
      "Epoch 36 Validation Loss: 0.0394\n",
      "Model saved to trainings/language_de/state_dict.pth\n",
      "Epoch 37/1000\n",
      "Epoch 37 Train Loss: 0.0336\n",
      "Epoch 37 Validation Loss: 0.0391\n",
      "Model saved to trainings/language_de/state_dict.pth\n",
      "Epoch 38/1000\n",
      "Epoch 38 Train Loss: 0.0331\n",
      "Epoch 38 Validation Loss: 0.0389\n",
      "Model saved to trainings/language_de/state_dict.pth\n",
      "Epoch 39/1000\n",
      "Epoch 39 Train Loss: 0.0326\n",
      "Epoch 39 Validation Loss: 0.0387\n",
      "Model saved to trainings/language_de/state_dict.pth\n",
      "Epoch 40/1000\n",
      "Epoch 40 Train Loss: 0.0321\n",
      "Epoch 40 Validation Loss: 0.0384\n",
      "Model saved to trainings/language_de/state_dict.pth\n",
      "Epoch 41/1000\n",
      "Epoch 41 Train Loss: 0.0316\n",
      "Epoch 41 Validation Loss: 0.0382\n",
      "Model saved to trainings/language_de/state_dict.pth\n",
      "Epoch 42/1000\n",
      "Epoch 42 Train Loss: 0.0312\n",
      "Epoch 42 Validation Loss: 0.0381\n",
      "Model saved to trainings/language_de/state_dict.pth\n",
      "Epoch 43/1000\n",
      "Epoch 43 Train Loss: 0.0307\n",
      "Epoch 43 Validation Loss: 0.0379\n",
      "Model saved to trainings/language_de/state_dict.pth\n",
      "Epoch 44/1000\n",
      "Epoch 44 Train Loss: 0.0303\n",
      "Epoch 44 Validation Loss: 0.0378\n",
      "Model saved to trainings/language_de/state_dict.pth\n",
      "Epoch 45/1000\n",
      "Epoch 45 Train Loss: 0.0299\n",
      "Epoch 45 Validation Loss: 0.0376\n",
      "Model saved to trainings/language_de/state_dict.pth\n",
      "Epoch 46/1000\n",
      "Epoch 46 Train Loss: 0.0295\n",
      "Epoch 46 Validation Loss: 0.0375\n",
      "Model saved to trainings/language_de/state_dict.pth\n",
      "Epoch 47/1000\n",
      "Epoch 47 Train Loss: 0.0291\n",
      "Epoch 47 Validation Loss: 0.0374\n",
      "Model saved to trainings/language_de/state_dict.pth\n",
      "Epoch 48/1000\n",
      "Epoch 48 Train Loss: 0.0287\n",
      "Epoch 48 Validation Loss: 0.0373\n",
      "Model saved to trainings/language_de/state_dict.pth\n",
      "Epoch 49/1000\n",
      "Epoch 49 Train Loss: 0.0283\n",
      "Epoch 49 Validation Loss: 0.0372\n",
      "Model saved to trainings/language_de/state_dict.pth\n",
      "Epoch 50/1000\n",
      "Epoch 50 Train Loss: 0.0280\n",
      "Epoch 50 Validation Loss: 0.0371\n",
      "Model saved to trainings/language_de/state_dict.pth\n",
      "Epoch 51/1000\n",
      "Epoch 51 Train Loss: 0.0276\n",
      "Epoch 51 Validation Loss: 0.0370\n",
      "Model saved to trainings/language_de/state_dict.pth\n",
      "Epoch 52/1000\n",
      "Epoch 52 Train Loss: 0.0273\n",
      "Epoch 52 Validation Loss: 0.0370\n",
      "Model saved to trainings/language_de/state_dict.pth\n",
      "Epoch 53/1000\n",
      "Epoch 53 Train Loss: 0.0269\n",
      "Epoch 53 Validation Loss: 0.0369\n",
      "Model saved to trainings/language_de/state_dict.pth\n",
      "Epoch 54/1000\n",
      "Epoch 54 Train Loss: 0.0266\n",
      "Epoch 54 Validation Loss: 0.0369\n",
      "Model saved to trainings/language_de/state_dict.pth\n",
      "Epoch 55/1000\n",
      "Epoch 55 Train Loss: 0.0263\n",
      "Epoch 55 Validation Loss: 0.0368\n",
      "Model saved to trainings/language_de/state_dict.pth\n",
      "Epoch 56/1000\n",
      "Epoch 56 Train Loss: 0.0260\n",
      "Epoch 56 Validation Loss: 0.0368\n",
      "Model saved to trainings/language_de/state_dict.pth\n",
      "Epoch 57/1000\n",
      "Epoch 57 Train Loss: 0.0257\n",
      "Epoch 57 Validation Loss: 0.0368\n",
      "Model saved to trainings/language_de/state_dict.pth\n",
      "Epoch 58/1000\n",
      "Epoch 58 Train Loss: 0.0254\n",
      "Epoch 58 Validation Loss: 0.0367\n",
      "Model saved to trainings/language_de/state_dict.pth\n",
      "Epoch 59/1000\n",
      "Epoch 59 Train Loss: 0.0251\n",
      "Epoch 59 Validation Loss: 0.0367\n",
      "Model saved to trainings/language_de/state_dict.pth\n",
      "Epoch 60/1000\n",
      "Epoch 60 Train Loss: 0.0248\n",
      "Epoch 60 Validation Loss: 0.0367\n",
      "Model saved to trainings/language_de/state_dict.pth\n",
      "Epoch 61/1000\n",
      "Epoch 61 Train Loss: 0.0245\n",
      "Epoch 61 Validation Loss: 0.0367\n",
      "Model saved to trainings/language_de/state_dict.pth\n",
      "Epoch 62/1000\n",
      "Epoch 62 Train Loss: 0.0242\n",
      "Epoch 62 Validation Loss: 0.0367\n",
      "Model saved to trainings/language_de/state_dict.pth\n",
      "Epoch 63/1000\n",
      "Epoch 63 Train Loss: 0.0239\n",
      "Epoch 63 Validation Loss: 0.0367\n",
      "Model saved to trainings/language_de/state_dict.pth\n",
      "Epoch 64/1000\n",
      "Epoch 64 Train Loss: 0.0237\n",
      "Epoch 64 Validation Loss: 0.0367\n",
      "Epoch 65/1000\n",
      "Epoch 65 Train Loss: 0.0234\n",
      "Epoch 65 Validation Loss: 0.0367\n",
      "Epoch 66/1000\n",
      "Epoch 66 Train Loss: 0.0231\n",
      "Epoch 66 Validation Loss: 0.0367\n",
      "Epoch 67/1000\n",
      "Epoch 67 Train Loss: 0.0229\n",
      "Epoch 67 Validation Loss: 0.0367\n",
      "Epoch 68/1000\n",
      "Epoch 68 Train Loss: 0.0228\n",
      "Epoch 68 Validation Loss: 0.0367\n",
      "Early stopping at epoch 68\n",
      "Loss history saved to trainings/language_de/loss_history.json\n",
      "CPU times: user 3.96 s, sys: 5.53 s, total: 9.48 s\n",
      "Wall time: 1min 51s\n"
     ]
    }
   ],
   "source": [
    "%%time\n",
    "\n",
    "fit_cav_model(\n",
    "    model,\n",
    "    train_dataloader,\n",
    "    val_dataloader,\n",
    "    f\"trainings/{project_name}/\",\n",
    "    num_epochs=epochs,\n",
    "    learning_rate=learning_rate,\n",
    ")"
   ]
  },
  {
   "cell_type": "code",
   "execution_count": 11,
   "metadata": {},
   "outputs": [],
   "source": [
    "model.load_state_dict(\n",
    "    torch.load(\n",
    "        os.path.join(\n",
    "            \"trainings\",\n",
    "            project_name,\n",
    "            \"state_dict.pth\",\n",
    "        )\n",
    "    )\n",
    ")\n",
    "\n",
    "cav_vector = model.get_concept_activation_vector()\n",
    "\n",
    "\n",
    "np.save(\n",
    "    os.path.join(\n",
    "        \"trainings\",\n",
    "        project_name,\n",
    "        f\"cav_{project_name}.npy\",\n",
    "    ),\n",
    "    cav_vector,\n",
    ")"
   ]
  },
  {
   "cell_type": "markdown",
   "metadata": {},
   "source": [
    "### Evaluation\n"
   ]
  },
  {
   "cell_type": "code",
   "execution_count": 12,
   "metadata": {},
   "outputs": [],
   "source": [
    "import json\n",
    "\n",
    "import matplotlib.pyplot as plt\n",
    "from cavmir.training.evaluate import evaluate_cav_model\n"
   ]
  },
  {
   "cell_type": "code",
   "execution_count": 13,
   "metadata": {},
   "outputs": [
    {
     "data": {
      "image/png": "[encoded data removed]",
      "text/plain": [
       "<Figure size 640x480 with 1 Axes>"
      ]
     },
     "metadata": {},
     "output_type": "display_data"
    }
   ],
   "source": [
    "loss_history = json.load(open(f\"trainings/{project_name}/loss_history.json\"))\n",
    "\n",
    "plt.plot(loss_history[\"train_loss\"], label=\"train\")\n",
    "plt.plot(loss_history[\"val_loss\"], label=\"val\")\n",
    "plt.legend()\n",
    "plt.grid()\n",
    "plt.show()\n"
   ]
  },
  {
   "cell_type": "code",
   "execution_count": 14,
   "metadata": {},
   "outputs": [
    {
     "name": "stderr",
     "output_type": "stream",
     "text": [
      "/home/arne/Documents/git/CAV-MIR/.venv/lib/python3.12/site-packages/webdataset/compat.py:389: UserWarning: WebDataset(shardshuffle=...) is None; set explicitly to False or a number\n",
      "  warnings.warn(\n"
     ]
    },
    {
     "data": {
      "image/png": "[encoded data removed]",
      "text/plain": [
       "<Figure size 1800x500 with 4 Axes>"
      ]
     },
     "metadata": {},
     "output_type": "display_data"
    },
    {
     "data": {
      "text/plain": [
       "{'precision': 0.9969135802469136,\n",
       " 'recall': 0.9817629179331308,\n",
       " 'f1_score': 0.9892802450229708,\n",
       " 'accuracy': 0.9893617021276596}"
      ]
     },
     "execution_count": 14,
     "metadata": {},
     "output_type": "execute_result"
    }
   ],
   "source": [
    "test_dataloader = create_dataloader_from_webdataset_path(\n",
    "    f\"datasets/{encoder_id}_test_{project_name}.tar\", batch_size=batch_size\n",
    ")\n",
    "\n",
    "evaluate_cav_model(model, test_dataloader, target_positive_class)\n"
   ]
  },
  {
   "cell_type": "code",
   "execution_count": null,
   "metadata": {},
   "outputs": [],
   "source": []
  }
 ],
 "metadata": {
  "kernelspec": {
   "display_name": ".venv",
   "language": "python",
   "name": "python3"
  },
  "language_info": {
   "codemirror_mode": {
    "name": "ipython",
    "version": 3
   },
   "file_extension": ".py",
   "mimetype": "text/x-python",
   "name": "python",
   "nbconvert_exporter": "python",
   "pygments_lexer": "ipython3",
   "version": "3.12.9"
  }
 },
 "nbformat": 4,
 "nbformat_minor": 2
}
