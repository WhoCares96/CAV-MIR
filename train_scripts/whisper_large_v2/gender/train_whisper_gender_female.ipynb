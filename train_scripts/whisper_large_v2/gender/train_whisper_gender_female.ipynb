{
  "cells": [
    {
      "cell_type": "markdown",
      "metadata": {},
      "source": [
        "### Prerequisites\n"
      ]
    },
    {
      "cell_type": "code",
      "execution_count": null,
      "metadata": {},
      "outputs": [],
      "source": [
        "import dotenv\n",
        "\n",
        "dotenv.load_dotenv()"
      ]
    },
    {
      "cell_type": "code",
      "execution_count": null,
      "metadata": {},
      "outputs": [],
      "source": [
        "project_name = \"gender_female\"\n",
        "encoder_id = \"whisper_large_v2\"\n",
        "\n",
        "\n",
        "# data preparation\n",
        "target_column = \"gender\"\n",
        "target_positive_class = \"female\"\n",
        "\n",
        "\n",
        "# training meta parameters\n",
        "num_train_runs = 100\n",
        "training_sample_count = 800\n",
        "\n",
        "\n",
        "# training parameters\n",
        "epochs = 1000\n",
        "batch_size = training_sample_count\n",
        "learning_rate = 0.008\n",
        "embedding_dim = 1280\n",
        "dropout_rate = 0.0\n"
      ]
    },
    {
      "cell_type": "markdown",
      "metadata": {},
      "source": [
        "### Prepare Data\n"
      ]
    },
    {
      "cell_type": "code",
      "execution_count": null,
      "metadata": {},
      "outputs": [],
      "source": [
        "import os\n",
        "\n",
        "import pandas as pd\n",
        "import s3fs\n",
        "from cavmir.training.dataset import (\n",
        "    create_dataloader_from_webdataset_path,\n",
        "    create_webdataset,\n",
        ")\n",
        "from cavmir.utils import (\n",
        "    append_embeddings_to_df,\n",
        "    create_training_samples_from_df,\n",
        "    train_one_cav,\n",
        ")\n",
        "\n",
        "s3 = s3fs.S3FileSystem(anon=False)\n",
        "\n",
        "dataset_prefix = os.environ[\"DATASET_PREFIX\"]\n",
        "embedding_prefix = os.environ[\"EMBEDDING_PREFIX\"]\n"
      ]
    },
    {
      "cell_type": "code",
      "execution_count": null,
      "metadata": {},
      "outputs": [],
      "source": [
        "# load training set\n",
        "df = pd.read_csv(os.path.join(dataset_prefix, f\"train_dataset_{project_name}.csv\"))\n",
        "df = append_embeddings_to_df(df, embedding_prefix, encoder_id, s3)"
      ]
    },
    {
      "cell_type": "code",
      "execution_count": null,
      "metadata": {},
      "outputs": [],
      "source": [
        "# create test set for evaluation\n",
        "df_test = pd.read_csv(os.path.join(dataset_prefix, f\"test_dataset_{project_name}.csv\"))\n",
        "df_test = append_embeddings_to_df(df_test, embedding_prefix, encoder_id, s3)\n",
        "\n",
        "create_webdataset(\n",
        "    create_training_samples_from_df(df_test),\n",
        "    f\"datasets/{encoder_id}_test_{project_name}.tar\",\n",
        ")\n",
        "\n",
        "test_dataloader = create_dataloader_from_webdataset_path(\n",
        "    f\"datasets/{encoder_id}_test_{project_name}.tar\", batch_size=batch_size\n",
        ")"
      ]
    },
    {
      "cell_type": "markdown",
      "metadata": {},
      "source": [
        "### Training\n"
      ]
    },
    {
      "cell_type": "code",
      "execution_count": null,
      "metadata": {},
      "outputs": [],
      "source": [
        "cav_vectors = []\n",
        "evaluation_metrics = []\n",
        "\n",
        "for i in range(num_train_runs):\n",
        "    cav_vector, evaluation_metric = train_one_cav(\n",
        "        train_index=i + 1,\n",
        "        df=df,\n",
        "        project_name=project_name,\n",
        "        encoder_id=encoder_id,\n",
        "        target_column=target_column,\n",
        "        target_positive_class=target_positive_class,\n",
        "        num_train_runs=num_train_runs,\n",
        "        training_sample_count=training_sample_count,\n",
        "        epochs=epochs,\n",
        "        batch_size=batch_size,\n",
        "        learning_rate=learning_rate,\n",
        "        embedding_dim=embedding_dim,\n",
        "        dropout_rate=dropout_rate,\n",
        "        test_dataloader=test_dataloader,\n",
        "    )\n",
        "\n",
        "    cav_vectors.append(cav_vector)\n",
        "    evaluation_metrics.append(evaluation_metric)\n"
      ]
    },
    {
      "cell_type": "code",
      "execution_count": null,
      "metadata": {},
      "outputs": [],
      "source": []
    },
    {
      "cell_type": "code",
      "execution_count": null,
      "metadata": {},
      "outputs": [],
      "source": [
        "import numpy as np\n",
        "\n",
        "np.save(\n",
        "    os.path.join(\n",
        "        \"trainings\",\n",
        "        project_name,\n",
        "        f\"cav_{project_name}.npy\",\n",
        "    ),\n",
        "    np.array(cav_vectors),\n",
        ")"
      ]
    },
    {
      "cell_type": "code",
      "execution_count": null,
      "metadata": {},
      "outputs": [],
      "source": [
        "import json\n",
        "\n",
        "json.dump(\n",
        "    evaluation_metrics,\n",
        "    open(\n",
        "        os.path.join(\n",
        "            \"trainings\",\n",
        "            project_name,\n",
        "            f\"evaluation_metrics_{project_name}.json\",\n",
        "        ),\n",
        "        \"w\",\n",
        "    ),\n",
        ")"
      ]
    },
    {
      "cell_type": "code",
      "execution_count": null,
      "metadata": {},
      "outputs": [],
      "source": []
    }
  ],
  "metadata": {
    "kernelspec": {
      "display_name": ".venv",
      "language": "python",
      "name": "python3"
    },
    "language_info": {
      "codemirror_mode": {
        "name": "ipython",
        "version": 3
      },
      "file_extension": ".py",
      "mimetype": "text/x-python",
      "name": "python",
      "nbconvert_exporter": "python",
      "pygments_lexer": "ipython3",
      "version": "3.12.9"
    }
  },
  "nbformat": 4,
  "nbformat_minor": 2
}
